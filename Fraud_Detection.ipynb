{
 "cells": [
  {
   "cell_type": "markdown",
   "metadata": {},
   "source": [
    "# <p style=\"background-color:blue; font-family:calibri; color:white; font-size:150%; text-align:center; border-radius:18px 80px;\">Capstone Project | Fraud Detection</p>"
   ]
  },
  {
   "cell_type": "markdown",
   "metadata": {},
   "source": [
    "<img src= \"https://itchronicles.com/wp-content/uploads/2023/02/Fraud-Detection-1536x768.jpg\" width = 1800>"
   ]
  },
  {
   "cell_type": "markdown",
   "metadata": {},
   "source": [
    "<div style=\"border-radius:9px; padding: 15px; background-color: #2A1F80; font-size:120%; text-align:left\">\n",
    "\n",
    "<h3 align=\"left\"><font color=white>Problem:</font></h3>\n",
    "\n",
    "This project analyzes a dataset containing information about various financial transactions. The objective is to develop a predictive model capable of distinguishing between legitimate and fraudulent transactions. Since false negatives (missed frauds) can lead to significant financial loss, the model will prioritize achieving high recall for the positive class (fraud cases)."
   ]
  },
  {
   "cell_type": "markdown",
   "metadata": {},
   "source": [
    "<div style=\"border-radius:10px; padding: 15px; background-color: #2A1F80; font-size:115%; text-align:left\">\n",
    "\n",
    "<h3 align=\"left\"><font color=white>Objectives:</font></h3>\n",
    "\n",
    "1. **Explore the Dataset:** Identify trends, distributions, and relationships between transaction attributes.\n",
    "2. **Conduct Extensive EDA:** Analyze univariate and bivariate relationships between features and the target variable.\n",
    "3. **Preprocessing Steps:**\n",
    "   - Remove irrelevant or redundant features.\n",
    "   - Handle missing or inconsistent data.\n",
    "   - Detect and treat outliers.\n",
    "   - Encode categorical variables appropriately.\n",
    "   - Transform skewed features to achieve a normal-like distribution.\n",
    "4. **Model Building:**\n",
    "   - Create pipelines for models that require feature scaling.\n",
    "   - Implement and tune classification models such as Logistic Regression, SVM, Decision Trees, Random Forest, and XGBoost.\n",
    "   - Emphasize high recall to capture fraudulent transactions effectively.\n",
    "5. **Evaluate and Compare Model Performance:**\n",
    "   - Use metrics such as precision, recall, F1-score, and ROC-AUC to assess model performance.\n",
    "    \n"
   ]
  },
  {
   "cell_type": "markdown",
   "metadata": {},
   "source": [
    "<a id=\"contents_tabel\"></a>    \n",
    "<div style=\"border-radius:9px; padding: 15px; background-color: #2A1F80; font-size:115%; text-align:left\">\n",
    "\n",
    "<h3 align=\"left\"><font color=white>Table of Contents:</font></h3>\n",
    "    \n",
    "* [Step 1 | Import Libraries](#import)\n",
    "* [Step 2 | Read Dataset](#read)\n",
    "* [Step 3 | Dataset Overview](#overview)\n",
    "* [Step 4 | Feature Encoding](#fe)\n",
    "* [Step 5 | Defining Fetures and Targets](#dft)\n",
    "* [Step 6 | Feture Standardaizing](#sf)\n",
    "* [Step 7 | Model Building and Fine Tuning](#mb)\n",
    "* [Step 8 | Model Evaluation ](#me)\n",
    "* [Step 9 | Model  Comparison](#mc)\n",
    "* [Step 10| ROC and AUC Curve](#rocauc)"
   ]
  },
  {
   "cell_type": "markdown",
   "metadata": {},
   "source": [
    "<a id=\"import\"></a>\n",
    "# <p style=\"background-color:#2A1F80; font-family:calibri; color:white; font-size:120%; text-align:center; border-radius:15px 50px;\">Step 1 | Import Libraries</p>\n",
    "\n",
    "⬆️ [Table of Contents](#contents_tabel)"
   ]
  },
  {
   "cell_type": "code",
   "execution_count": 14,
   "metadata": {},
   "outputs": [],
   "source": [
    "# Import required libraries\n",
    "import pandas as pd\n",
    "import numpy as np\n",
    "import matplotlib.pyplot as plt\n",
    "import seaborn as sns\n",
    "from sklearn.model_selection import train_test_split, GridSearchCV\n",
    "from sklearn.preprocessing import StandardScaler\n",
    "from sklearn.linear_model import LogisticRegression\n",
    "from sklearn.tree import DecisionTreeClassifier\n",
    "from sklearn.ensemble import RandomForestClassifier\n",
    "from xgboost import XGBClassifier\n",
    "from sklearn.svm import SVC\n",
    "from sklearn.neighbors import KNeighborsClassifier\n",
    "from sklearn.metrics import classification_report, confusion_matrix, accuracy_score\n",
    "from sklearn.metrics import roc_curve, auc\n",
    "import os\n",
    "os.environ['CUDA_VISIBLE_DEVICES'] = '-1'\n",
    "\n",
    "#For Neural Network\n",
    "import tensorflow as tf\n",
    "from tensorflow.keras.models import Sequential\n",
    "from tensorflow.keras.layers import Dense, Dropout\n"
   ]
  },
  {
   "cell_type": "markdown",
   "metadata": {},
   "source": [
    "<a id=\"read\"></a>\n",
    "# <p style=\"background-color:#2A1F80 ; font-family:calibri; color:white; font-size:120%; text-align:center; border-radius:15px 50px;\">Step 2 | Read Dataset</p>\n",
    "\n",
    "⬆️ [Table of Contents](#contents_tabel)"
   ]
  },
  {
   "cell_type": "code",
   "execution_count": 2,
   "metadata": {},
   "outputs": [],
   "source": [
    "# Load the Data\n",
    "df = pd.read_csv(r\"C:\\Users\\karan\\Desktop\\Them\\Fraud_Analysis_Dataset.csv\")"
   ]
  },
  {
   "cell_type": "markdown",
   "metadata": {},
   "source": [
    "<a id=\"overview\"></a>\n",
    "# <p style=\"background-color:#2A1F80; font-family:calibri; color:white; font-size:120%; text-align:center; border-radius:15px 50px;\">Step 3 | Dataset Overview</p>\n",
    "\n",
    "⬆️ [Table of Contents](#contents_tabel)"
   ]
  },
  {
   "cell_type": "code",
   "execution_count": 3,
   "metadata": {},
   "outputs": [
    {
     "name": "stdout",
     "output_type": "stream",
     "text": [
      "<class 'pandas.core.frame.DataFrame'>\n",
      "RangeIndex: 11142 entries, 0 to 11141\n",
      "Data columns (total 10 columns):\n",
      " #   Column          Non-Null Count  Dtype  \n",
      "---  ------          --------------  -----  \n",
      " 0   step            11142 non-null  int64  \n",
      " 1   type            11142 non-null  object \n",
      " 2   amount          11142 non-null  float64\n",
      " 3   nameOrig        11142 non-null  object \n",
      " 4   oldbalanceOrg   11142 non-null  float64\n",
      " 5   newbalanceOrig  11142 non-null  float64\n",
      " 6   nameDest        11142 non-null  object \n",
      " 7   oldbalanceDest  11142 non-null  float64\n",
      " 8   newbalanceDest  11142 non-null  float64\n",
      " 9   isFraud         11142 non-null  int64  \n",
      "dtypes: float64(5), int64(2), object(3)\n",
      "memory usage: 870.6+ KB\n",
      "None\n",
      "   step      type   amount     nameOrig  oldbalanceOrg  newbalanceOrig  \\\n",
      "0     1  TRANSFER    181.0  C1305486145          181.0             0.0   \n",
      "1     1  CASH_OUT    181.0   C840083671          181.0             0.0   \n",
      "2     1  TRANSFER   2806.0  C1420196421         2806.0             0.0   \n",
      "3     1  CASH_OUT   2806.0  C2101527076         2806.0             0.0   \n",
      "4     1  TRANSFER  20128.0   C137533655        20128.0             0.0   \n",
      "\n",
      "      nameDest  oldbalanceDest  newbalanceDest  isFraud  \n",
      "0   C553264065             0.0             0.0        1  \n",
      "1    C38997010         21182.0             0.0        1  \n",
      "2   C972765878             0.0             0.0        1  \n",
      "3  C1007251739         26202.0             0.0        1  \n",
      "4  C1848415041             0.0             0.0        1  \n"
     ]
    }
   ],
   "source": [
    "# Data Overview\n",
    "print(df.info())\n",
    "print(df.head())"
   ]
  },
  {
   "cell_type": "code",
   "execution_count": 4,
   "metadata": {},
   "outputs": [
    {
     "name": "stdout",
     "output_type": "stream",
     "text": [
      "                  count          mean           std   min        25%  \\\n",
      "step            11142.0  8.717645e+00  1.606748e+01  1.00     2.0000   \n",
      "amount          11142.0  2.131915e+05  7.600650e+05  2.39  4946.6175   \n",
      "oldbalanceOrg   11142.0  9.241173e+05  2.143004e+06  0.00   427.0000   \n",
      "newbalanceOrig  11142.0  8.249576e+05  2.089894e+06  0.00     0.0000   \n",
      "oldbalanceDest  11142.0  8.883541e+05  2.601376e+06  0.00     0.0000   \n",
      "newbalanceDest  11142.0  1.103211e+06  2.982447e+06  0.00     0.0000   \n",
      "isFraud         11142.0  1.024951e-01  3.033119e-01  0.00     0.0000   \n",
      "\n",
      "                      50%          75%         max  \n",
      "step                6.000       7.0000        95.0  \n",
      "amount          16761.260  154336.5750  10000000.0  \n",
      "oldbalanceOrg   28169.500  304085.4800  19900000.0  \n",
      "newbalanceOrig   4420.605  111412.6350  13000000.0  \n",
      "oldbalanceDest      0.000  271155.4725  33000000.0  \n",
      "newbalanceDest      0.000  318637.3600  34600000.0  \n",
      "isFraud             0.000       0.0000         1.0  \n"
     ]
    }
   ],
   "source": [
    "print(df.describe().T)"
   ]
  },
  {
   "cell_type": "markdown",
   "metadata": {},
   "source": [
    "<a id=\"fe\"></a>\n",
    "# <p style=\"background-color:#2A1F80; font-family:calibri; color:white; font-size:120%; text-align:center; border-radius:15px 50px;\">Step 4 | Encoding Features</p>\n",
    "\n",
    "⬆️ [Table of Contents](#contents_tabel)"
   ]
  },
  {
   "cell_type": "code",
   "execution_count": 5,
   "metadata": {},
   "outputs": [
    {
     "name": "stdout",
     "output_type": "stream",
     "text": [
      "step              0\n",
      "type              0\n",
      "amount            0\n",
      "nameOrig          0\n",
      "oldbalanceOrg     0\n",
      "newbalanceOrig    0\n",
      "nameDest          0\n",
      "oldbalanceDest    0\n",
      "newbalanceDest    0\n",
      "isFraud           0\n",
      "dtype: int64\n"
     ]
    }
   ],
   "source": [
    "# Check for missing values\n",
    "print(df.isnull().sum())"
   ]
  },
  {
   "cell_type": "code",
   "execution_count": 6,
   "metadata": {},
   "outputs": [],
   "source": [
    "# Encode categorical features\n",
    "df['type'] = df['type'].astype('category').cat.codes"
   ]
  },
  {
   "cell_type": "markdown",
   "metadata": {},
   "source": [
    "<a id=\"dft\"></a>\n",
    "# <p style=\"background-color:#2A1F80; font-family:calibri; color:white; font-size:120%; text-align:center; border-radius:15px 50px;\">Step 5 | Defining Features and Targets</p>\n",
    "\n",
    "⬆️ [Table of Contents](#contents_tabel)"
   ]
  },
  {
   "cell_type": "code",
   "execution_count": 7,
   "metadata": {},
   "outputs": [],
   "source": [
    "# Define features and target\n",
    "x = df.drop(columns=['isFraud', 'nameOrig', 'nameDest'])\n",
    "y = df['isFraud'].astype(int)  # Convert target to integer"
   ]
  },
  {
   "cell_type": "code",
   "execution_count": 8,
   "metadata": {},
   "outputs": [
    {
     "data": {
      "text/html": [
       "<div>\n",
       "<style scoped>\n",
       "    .dataframe tbody tr th:only-of-type {\n",
       "        vertical-align: middle;\n",
       "    }\n",
       "\n",
       "    .dataframe tbody tr th {\n",
       "        vertical-align: top;\n",
       "    }\n",
       "\n",
       "    .dataframe thead th {\n",
       "        text-align: right;\n",
       "    }\n",
       "</style>\n",
       "<table border=\"1\" class=\"dataframe\">\n",
       "  <thead>\n",
       "    <tr style=\"text-align: right;\">\n",
       "      <th></th>\n",
       "      <th>step</th>\n",
       "      <th>type</th>\n",
       "      <th>amount</th>\n",
       "      <th>oldbalanceOrg</th>\n",
       "      <th>newbalanceOrig</th>\n",
       "      <th>oldbalanceDest</th>\n",
       "      <th>newbalanceDest</th>\n",
       "    </tr>\n",
       "  </thead>\n",
       "  <tbody>\n",
       "    <tr>\n",
       "      <th>0</th>\n",
       "      <td>1</td>\n",
       "      <td>4</td>\n",
       "      <td>181.00</td>\n",
       "      <td>181.00</td>\n",
       "      <td>0.00</td>\n",
       "      <td>0.00</td>\n",
       "      <td>0.00</td>\n",
       "    </tr>\n",
       "    <tr>\n",
       "      <th>1</th>\n",
       "      <td>1</td>\n",
       "      <td>1</td>\n",
       "      <td>181.00</td>\n",
       "      <td>181.00</td>\n",
       "      <td>0.00</td>\n",
       "      <td>21182.00</td>\n",
       "      <td>0.00</td>\n",
       "    </tr>\n",
       "    <tr>\n",
       "      <th>2</th>\n",
       "      <td>1</td>\n",
       "      <td>4</td>\n",
       "      <td>2806.00</td>\n",
       "      <td>2806.00</td>\n",
       "      <td>0.00</td>\n",
       "      <td>0.00</td>\n",
       "      <td>0.00</td>\n",
       "    </tr>\n",
       "    <tr>\n",
       "      <th>3</th>\n",
       "      <td>1</td>\n",
       "      <td>1</td>\n",
       "      <td>2806.00</td>\n",
       "      <td>2806.00</td>\n",
       "      <td>0.00</td>\n",
       "      <td>26202.00</td>\n",
       "      <td>0.00</td>\n",
       "    </tr>\n",
       "    <tr>\n",
       "      <th>4</th>\n",
       "      <td>1</td>\n",
       "      <td>4</td>\n",
       "      <td>20128.00</td>\n",
       "      <td>20128.00</td>\n",
       "      <td>0.00</td>\n",
       "      <td>0.00</td>\n",
       "      <td>0.00</td>\n",
       "    </tr>\n",
       "    <tr>\n",
       "      <th>...</th>\n",
       "      <td>...</td>\n",
       "      <td>...</td>\n",
       "      <td>...</td>\n",
       "      <td>...</td>\n",
       "      <td>...</td>\n",
       "      <td>...</td>\n",
       "      <td>...</td>\n",
       "    </tr>\n",
       "    <tr>\n",
       "      <th>11137</th>\n",
       "      <td>7</td>\n",
       "      <td>2</td>\n",
       "      <td>6393.71</td>\n",
       "      <td>433084.38</td>\n",
       "      <td>426690.68</td>\n",
       "      <td>478421.00</td>\n",
       "      <td>210535.25</td>\n",
       "    </tr>\n",
       "    <tr>\n",
       "      <th>11138</th>\n",
       "      <td>7</td>\n",
       "      <td>1</td>\n",
       "      <td>298799.54</td>\n",
       "      <td>426690.68</td>\n",
       "      <td>127891.14</td>\n",
       "      <td>704355.36</td>\n",
       "      <td>5270364.19</td>\n",
       "    </tr>\n",
       "    <tr>\n",
       "      <th>11139</th>\n",
       "      <td>7</td>\n",
       "      <td>1</td>\n",
       "      <td>423159.63</td>\n",
       "      <td>127891.14</td>\n",
       "      <td>0.00</td>\n",
       "      <td>610479.00</td>\n",
       "      <td>749621.53</td>\n",
       "    </tr>\n",
       "    <tr>\n",
       "      <th>11140</th>\n",
       "      <td>7</td>\n",
       "      <td>3</td>\n",
       "      <td>1094.03</td>\n",
       "      <td>13918.00</td>\n",
       "      <td>12823.97</td>\n",
       "      <td>0.00</td>\n",
       "      <td>0.00</td>\n",
       "    </tr>\n",
       "    <tr>\n",
       "      <th>11141</th>\n",
       "      <td>7</td>\n",
       "      <td>3</td>\n",
       "      <td>9235.58</td>\n",
       "      <td>39963.00</td>\n",
       "      <td>30727.42</td>\n",
       "      <td>0.00</td>\n",
       "      <td>0.00</td>\n",
       "    </tr>\n",
       "  </tbody>\n",
       "</table>\n",
       "<p>11142 rows × 7 columns</p>\n",
       "</div>"
      ],
      "text/plain": [
       "       step  type     amount  oldbalanceOrg  newbalanceOrig  oldbalanceDest  \\\n",
       "0         1     4     181.00         181.00            0.00            0.00   \n",
       "1         1     1     181.00         181.00            0.00        21182.00   \n",
       "2         1     4    2806.00        2806.00            0.00            0.00   \n",
       "3         1     1    2806.00        2806.00            0.00        26202.00   \n",
       "4         1     4   20128.00       20128.00            0.00            0.00   \n",
       "...     ...   ...        ...            ...             ...             ...   \n",
       "11137     7     2    6393.71      433084.38       426690.68       478421.00   \n",
       "11138     7     1  298799.54      426690.68       127891.14       704355.36   \n",
       "11139     7     1  423159.63      127891.14            0.00       610479.00   \n",
       "11140     7     3    1094.03       13918.00        12823.97            0.00   \n",
       "11141     7     3    9235.58       39963.00        30727.42            0.00   \n",
       "\n",
       "       newbalanceDest  \n",
       "0                0.00  \n",
       "1                0.00  \n",
       "2                0.00  \n",
       "3                0.00  \n",
       "4                0.00  \n",
       "...               ...  \n",
       "11137       210535.25  \n",
       "11138      5270364.19  \n",
       "11139       749621.53  \n",
       "11140            0.00  \n",
       "11141            0.00  \n",
       "\n",
       "[11142 rows x 7 columns]"
      ]
     },
     "execution_count": 8,
     "metadata": {},
     "output_type": "execute_result"
    }
   ],
   "source": [
    "x"
   ]
  },
  {
   "cell_type": "code",
   "execution_count": 9,
   "metadata": {},
   "outputs": [
    {
     "data": {
      "text/plain": [
       "0        1\n",
       "1        1\n",
       "2        1\n",
       "3        1\n",
       "4        1\n",
       "        ..\n",
       "11137    0\n",
       "11138    0\n",
       "11139    0\n",
       "11140    0\n",
       "11141    0\n",
       "Name: isFraud, Length: 11142, dtype: int64"
      ]
     },
     "execution_count": 9,
     "metadata": {},
     "output_type": "execute_result"
    }
   ],
   "source": [
    "y"
   ]
  },
  {
   "cell_type": "code",
   "execution_count": 10,
   "metadata": {},
   "outputs": [],
   "source": [
    "# Split the data\n",
    "x_train, x_test, y_train, y_test = train_test_split(x, y, test_size=0.2, random_state=42)"
   ]
  },
  {
   "cell_type": "markdown",
   "metadata": {},
   "source": [
    "<a id=\"sf\"></a>\n",
    "# <p style=\"background-color:#2A1F80; font-family:calibri; color:white; font-size:120%; text-align:center; border-radius:15px 50px;\">Step 6 | Standardizing Features</p>\n",
    "\n",
    "⬆️ [Table of Contents](#contents_tabel)"
   ]
  },
  {
   "cell_type": "code",
   "execution_count": 11,
   "metadata": {},
   "outputs": [],
   "source": [
    "# Standardize the features\n",
    "scaler = StandardScaler()\n",
    "x_train_scaled = scaler.fit_transform(x_train)\n",
    "x_test_scaled = scaler.transform(x_test)"
   ]
  },
  {
   "cell_type": "markdown",
   "metadata": {},
   "source": [
    "<a id=\"mb\"></a>\n",
    "# <p style=\"background-color:#2A1F80; font-family:calibri; color:white; font-size:120%; text-align:center; border-radius:15px 50px;\">Step 7 | Model Building and Fine Tuning</p>\n",
    "\n",
    "⬆️ [Table of Contents](#contents_tabel)"
   ]
  },
  {
   "cell_type": "code",
   "execution_count": 12,
   "metadata": {},
   "outputs": [],
   "source": [
    "# Define models with parameter grids\n",
    "param_grids = {\n",
    "    'Logistic Regression': {\n",
    "        'C': [0.01, 0.1, 1, 10, 100],\n",
    "        'solver': ['liblinear']\n",
    "    },\n",
    "    'Decision Tree': {\n",
    "        'max_depth': [5, 10, 20, None],\n",
    "        'min_samples_split': [2, 5, 10]\n",
    "    },\n",
    "    'Random Forest': {\n",
    "        'n_estimators': [100, 200, 300],\n",
    "        'max_depth': [5, 10, 20, None]\n",
    "    },\n",
    "    'XGBoost': {\n",
    "        'learning_rate': [0.01, 0.1, 0.2],\n",
    "        'n_estimators': [100, 200, 300],\n",
    "        'max_depth': [3, 5, 10]\n",
    "    },\n",
    "    'SVM': {\n",
    "        'C': [0.1, 1, 10, 100],\n",
    "        'kernel': ['linear', 'rbf']\n",
    "    },\n",
    "    'KNN': {\n",
    "        'n_neighbors': [3, 5, 7, 10],\n",
    "        'weights': ['uniform', 'distance']\n",
    "    }\n",
    "}\n"
   ]
  },
  {
   "cell_type": "code",
   "execution_count": 13,
   "metadata": {},
   "outputs": [],
   "source": [
    "# Fine-tune models and evaluate\n",
    "best_models = {}\n",
    "results = {}\n",
    "for name, model in zip(param_grids.keys(), [LogisticRegression(), DecisionTreeClassifier(random_state=42), RandomForestClassifier(random_state=42), XGBClassifier(tree_method='hist', eval_metric='logloss', device='cpu'), SVC(), KNeighborsClassifier()]):\n",
    "    grid_search = GridSearchCV(model, param_grids[name], cv=3, scoring='accuracy', n_jobs=-1, error_score='raise')\n",
    "    grid_search.fit(x_train_scaled, y_train)\n",
    "    best_model = grid_search.best_estimator_\n",
    "    best_models[name] = best_model\n",
    "    \n",
    "    # Predict using the best model\n",
    "    y_pred = best_model.predict(x_test_scaled)\n",
    "    results[name] = {\n",
    "        'Accuracy': accuracy_score(y_test, y_pred),\n",
    "        'Confusion Matrix': confusion_matrix(y_test, y_pred),\n",
    "        'Classification Report': classification_report(y_test, y_pred)\n",
    "    }\n"
   ]
  },
  {
   "cell_type": "code",
   "execution_count": 15,
   "metadata": {},
   "outputs": [
    {
     "name": "stderr",
     "output_type": "stream",
     "text": [
      "c:\\Users\\karan\\Desktop\\Them\\myenv\\Lib\\site-packages\\keras\\src\\layers\\core\\dense.py:87: UserWarning: Do not pass an `input_shape`/`input_dim` argument to a layer. When using Sequential models, prefer using an `Input(shape)` object as the first layer in the model instead.\n",
      "  super().__init__(activity_regularizer=activity_regularizer, **kwargs)\n"
     ]
    },
    {
     "data": {
      "text/html": [
       "<pre style=\"white-space:pre;overflow-x:auto;line-height:normal;font-family:Menlo,'DejaVu Sans Mono',consolas,'Courier New',monospace\"><span style=\"font-weight: bold\">Model: \"sequential\"</span>\n",
       "</pre>\n"
      ],
      "text/plain": [
       "\u001b[1mModel: \"sequential\"\u001b[0m\n"
      ]
     },
     "metadata": {},
     "output_type": "display_data"
    },
    {
     "data": {
      "text/html": [
       "<pre style=\"white-space:pre;overflow-x:auto;line-height:normal;font-family:Menlo,'DejaVu Sans Mono',consolas,'Courier New',monospace\">┏━━━━━━━━━━━━━━━━━━━━━━━━━━━━━━━━━┳━━━━━━━━━━━━━━━━━━━━━━━━┳━━━━━━━━━━━━━━━┓\n",
       "┃<span style=\"font-weight: bold\"> Layer (type)                    </span>┃<span style=\"font-weight: bold\"> Output Shape           </span>┃<span style=\"font-weight: bold\">       Param # </span>┃\n",
       "┡━━━━━━━━━━━━━━━━━━━━━━━━━━━━━━━━━╇━━━━━━━━━━━━━━━━━━━━━━━━╇━━━━━━━━━━━━━━━┩\n",
       "│ dense (<span style=\"color: #0087ff; text-decoration-color: #0087ff\">Dense</span>)                   │ (<span style=\"color: #00d7ff; text-decoration-color: #00d7ff\">None</span>, <span style=\"color: #00af00; text-decoration-color: #00af00\">64</span>)             │           <span style=\"color: #00af00; text-decoration-color: #00af00\">512</span> │\n",
       "├─────────────────────────────────┼────────────────────────┼───────────────┤\n",
       "│ dropout (<span style=\"color: #0087ff; text-decoration-color: #0087ff\">Dropout</span>)               │ (<span style=\"color: #00d7ff; text-decoration-color: #00d7ff\">None</span>, <span style=\"color: #00af00; text-decoration-color: #00af00\">64</span>)             │             <span style=\"color: #00af00; text-decoration-color: #00af00\">0</span> │\n",
       "├─────────────────────────────────┼────────────────────────┼───────────────┤\n",
       "│ dense_1 (<span style=\"color: #0087ff; text-decoration-color: #0087ff\">Dense</span>)                 │ (<span style=\"color: #00d7ff; text-decoration-color: #00d7ff\">None</span>, <span style=\"color: #00af00; text-decoration-color: #00af00\">32</span>)             │         <span style=\"color: #00af00; text-decoration-color: #00af00\">2,080</span> │\n",
       "├─────────────────────────────────┼────────────────────────┼───────────────┤\n",
       "│ dropout_1 (<span style=\"color: #0087ff; text-decoration-color: #0087ff\">Dropout</span>)             │ (<span style=\"color: #00d7ff; text-decoration-color: #00d7ff\">None</span>, <span style=\"color: #00af00; text-decoration-color: #00af00\">32</span>)             │             <span style=\"color: #00af00; text-decoration-color: #00af00\">0</span> │\n",
       "├─────────────────────────────────┼────────────────────────┼───────────────┤\n",
       "│ dense_2 (<span style=\"color: #0087ff; text-decoration-color: #0087ff\">Dense</span>)                 │ (<span style=\"color: #00d7ff; text-decoration-color: #00d7ff\">None</span>, <span style=\"color: #00af00; text-decoration-color: #00af00\">1</span>)              │            <span style=\"color: #00af00; text-decoration-color: #00af00\">33</span> │\n",
       "└─────────────────────────────────┴────────────────────────┴───────────────┘\n",
       "</pre>\n"
      ],
      "text/plain": [
       "┏━━━━━━━━━━━━━━━━━━━━━━━━━━━━━━━━━┳━━━━━━━━━━━━━━━━━━━━━━━━┳━━━━━━━━━━━━━━━┓\n",
       "┃\u001b[1m \u001b[0m\u001b[1mLayer (type)                   \u001b[0m\u001b[1m \u001b[0m┃\u001b[1m \u001b[0m\u001b[1mOutput Shape          \u001b[0m\u001b[1m \u001b[0m┃\u001b[1m \u001b[0m\u001b[1m      Param #\u001b[0m\u001b[1m \u001b[0m┃\n",
       "┡━━━━━━━━━━━━━━━━━━━━━━━━━━━━━━━━━╇━━━━━━━━━━━━━━━━━━━━━━━━╇━━━━━━━━━━━━━━━┩\n",
       "│ dense (\u001b[38;5;33mDense\u001b[0m)                   │ (\u001b[38;5;45mNone\u001b[0m, \u001b[38;5;34m64\u001b[0m)             │           \u001b[38;5;34m512\u001b[0m │\n",
       "├─────────────────────────────────┼────────────────────────┼───────────────┤\n",
       "│ dropout (\u001b[38;5;33mDropout\u001b[0m)               │ (\u001b[38;5;45mNone\u001b[0m, \u001b[38;5;34m64\u001b[0m)             │             \u001b[38;5;34m0\u001b[0m │\n",
       "├─────────────────────────────────┼────────────────────────┼───────────────┤\n",
       "│ dense_1 (\u001b[38;5;33mDense\u001b[0m)                 │ (\u001b[38;5;45mNone\u001b[0m, \u001b[38;5;34m32\u001b[0m)             │         \u001b[38;5;34m2,080\u001b[0m │\n",
       "├─────────────────────────────────┼────────────────────────┼───────────────┤\n",
       "│ dropout_1 (\u001b[38;5;33mDropout\u001b[0m)             │ (\u001b[38;5;45mNone\u001b[0m, \u001b[38;5;34m32\u001b[0m)             │             \u001b[38;5;34m0\u001b[0m │\n",
       "├─────────────────────────────────┼────────────────────────┼───────────────┤\n",
       "│ dense_2 (\u001b[38;5;33mDense\u001b[0m)                 │ (\u001b[38;5;45mNone\u001b[0m, \u001b[38;5;34m1\u001b[0m)              │            \u001b[38;5;34m33\u001b[0m │\n",
       "└─────────────────────────────────┴────────────────────────┴───────────────┘\n"
      ]
     },
     "metadata": {},
     "output_type": "display_data"
    },
    {
     "data": {
      "text/html": [
       "<pre style=\"white-space:pre;overflow-x:auto;line-height:normal;font-family:Menlo,'DejaVu Sans Mono',consolas,'Courier New',monospace\"><span style=\"font-weight: bold\"> Total params: </span><span style=\"color: #00af00; text-decoration-color: #00af00\">2,625</span> (10.25 KB)\n",
       "</pre>\n"
      ],
      "text/plain": [
       "\u001b[1m Total params: \u001b[0m\u001b[38;5;34m2,625\u001b[0m (10.25 KB)\n"
      ]
     },
     "metadata": {},
     "output_type": "display_data"
    },
    {
     "data": {
      "text/html": [
       "<pre style=\"white-space:pre;overflow-x:auto;line-height:normal;font-family:Menlo,'DejaVu Sans Mono',consolas,'Courier New',monospace\"><span style=\"font-weight: bold\"> Trainable params: </span><span style=\"color: #00af00; text-decoration-color: #00af00\">2,625</span> (10.25 KB)\n",
       "</pre>\n"
      ],
      "text/plain": [
       "\u001b[1m Trainable params: \u001b[0m\u001b[38;5;34m2,625\u001b[0m (10.25 KB)\n"
      ]
     },
     "metadata": {},
     "output_type": "display_data"
    },
    {
     "data": {
      "text/html": [
       "<pre style=\"white-space:pre;overflow-x:auto;line-height:normal;font-family:Menlo,'DejaVu Sans Mono',consolas,'Courier New',monospace\"><span style=\"font-weight: bold\"> Non-trainable params: </span><span style=\"color: #00af00; text-decoration-color: #00af00\">0</span> (0.00 B)\n",
       "</pre>\n"
      ],
      "text/plain": [
       "\u001b[1m Non-trainable params: \u001b[0m\u001b[38;5;34m0\u001b[0m (0.00 B)\n"
      ]
     },
     "metadata": {},
     "output_type": "display_data"
    }
   ],
   "source": [
    "# Build Neural Network\n",
    "model = Sequential([\n",
    "    Dense(64, activation='relu', input_shape=(x_train_scaled.shape[1],)),\n",
    "    Dropout(0.3),\n",
    "    Dense(32, activation='relu'),\n",
    "    Dropout(0.3),\n",
    "    Dense(1, activation='sigmoid')\n",
    "])\n",
    "\n",
    "model.compile(optimizer='adam', loss='binary_crossentropy', metrics=['accuracy'])\n",
    "model.summary()\n"
   ]
  },
  {
   "cell_type": "code",
   "execution_count": 16,
   "metadata": {},
   "outputs": [
    {
     "name": "stdout",
     "output_type": "stream",
     "text": [
      "Epoch 1/20\n",
      "\u001b[1m223/223\u001b[0m \u001b[32m━━━━━━━━━━━━━━━━━━━━\u001b[0m\u001b[37m\u001b[0m \u001b[1m3s\u001b[0m 4ms/step - accuracy: 0.8043 - loss: 0.4444 - val_accuracy: 0.9843 - val_loss: 0.0705\n",
      "Epoch 2/20\n",
      "\u001b[1m223/223\u001b[0m \u001b[32m━━━━━━━━━━━━━━━━━━━━\u001b[0m\u001b[37m\u001b[0m \u001b[1m1s\u001b[0m 3ms/step - accuracy: 0.9817 - loss: 0.0781 - val_accuracy: 0.9877 - val_loss: 0.0597\n",
      "Epoch 3/20\n",
      "\u001b[1m223/223\u001b[0m \u001b[32m━━━━━━━━━━━━━━━━━━━━\u001b[0m\u001b[37m\u001b[0m \u001b[1m1s\u001b[0m 4ms/step - accuracy: 0.9872 - loss: 0.0600 - val_accuracy: 0.9877 - val_loss: 0.0572\n",
      "Epoch 4/20\n",
      "\u001b[1m223/223\u001b[0m \u001b[32m━━━━━━━━━━━━━━━━━━━━\u001b[0m\u001b[37m\u001b[0m \u001b[1m1s\u001b[0m 4ms/step - accuracy: 0.9894 - loss: 0.0546 - val_accuracy: 0.9888 - val_loss: 0.0540\n",
      "Epoch 5/20\n",
      "\u001b[1m223/223\u001b[0m \u001b[32m━━━━━━━━━━━━━━━━━━━━\u001b[0m\u001b[37m\u001b[0m \u001b[1m1s\u001b[0m 3ms/step - accuracy: 0.9896 - loss: 0.0530 - val_accuracy: 0.9899 - val_loss: 0.0490\n",
      "Epoch 6/20\n",
      "\u001b[1m223/223\u001b[0m \u001b[32m━━━━━━━━━━━━━━━━━━━━\u001b[0m\u001b[37m\u001b[0m \u001b[1m1s\u001b[0m 3ms/step - accuracy: 0.9906 - loss: 0.0456 - val_accuracy: 0.9905 - val_loss: 0.0459\n",
      "Epoch 7/20\n",
      "\u001b[1m223/223\u001b[0m \u001b[32m━━━━━━━━━━━━━━━━━━━━\u001b[0m\u001b[37m\u001b[0m \u001b[1m1s\u001b[0m 3ms/step - accuracy: 0.9937 - loss: 0.0378 - val_accuracy: 0.9916 - val_loss: 0.0449\n",
      "Epoch 8/20\n",
      "\u001b[1m223/223\u001b[0m \u001b[32m━━━━━━━━━━━━━━━━━━━━\u001b[0m\u001b[37m\u001b[0m \u001b[1m1s\u001b[0m 3ms/step - accuracy: 0.9908 - loss: 0.0419 - val_accuracy: 0.9910 - val_loss: 0.0452\n",
      "Epoch 9/20\n",
      "\u001b[1m223/223\u001b[0m \u001b[32m━━━━━━━━━━━━━━━━━━━━\u001b[0m\u001b[37m\u001b[0m \u001b[1m1s\u001b[0m 3ms/step - accuracy: 0.9902 - loss: 0.0461 - val_accuracy: 0.9910 - val_loss: 0.0436\n",
      "Epoch 10/20\n",
      "\u001b[1m223/223\u001b[0m \u001b[32m━━━━━━━━━━━━━━━━━━━━\u001b[0m\u001b[37m\u001b[0m \u001b[1m1s\u001b[0m 3ms/step - accuracy: 0.9910 - loss: 0.0419 - val_accuracy: 0.9916 - val_loss: 0.0409\n",
      "Epoch 11/20\n",
      "\u001b[1m223/223\u001b[0m \u001b[32m━━━━━━━━━━━━━━━━━━━━\u001b[0m\u001b[37m\u001b[0m \u001b[1m1s\u001b[0m 3ms/step - accuracy: 0.9925 - loss: 0.0347 - val_accuracy: 0.9910 - val_loss: 0.0408\n",
      "Epoch 12/20\n",
      "\u001b[1m223/223\u001b[0m \u001b[32m━━━━━━━━━━━━━━━━━━━━\u001b[0m\u001b[37m\u001b[0m \u001b[1m1s\u001b[0m 3ms/step - accuracy: 0.9941 - loss: 0.0293 - val_accuracy: 0.9910 - val_loss: 0.0394\n",
      "Epoch 13/20\n",
      "\u001b[1m223/223\u001b[0m \u001b[32m━━━━━━━━━━━━━━━━━━━━\u001b[0m\u001b[37m\u001b[0m \u001b[1m1s\u001b[0m 3ms/step - accuracy: 0.9910 - loss: 0.0389 - val_accuracy: 0.9916 - val_loss: 0.0398\n",
      "Epoch 14/20\n",
      "\u001b[1m223/223\u001b[0m \u001b[32m━━━━━━━━━━━━━━━━━━━━\u001b[0m\u001b[37m\u001b[0m \u001b[1m1s\u001b[0m 3ms/step - accuracy: 0.9928 - loss: 0.0361 - val_accuracy: 0.9916 - val_loss: 0.0384\n",
      "Epoch 15/20\n",
      "\u001b[1m223/223\u001b[0m \u001b[32m━━━━━━━━━━━━━━━━━━━━\u001b[0m\u001b[37m\u001b[0m \u001b[1m1s\u001b[0m 3ms/step - accuracy: 0.9929 - loss: 0.0326 - val_accuracy: 0.9916 - val_loss: 0.0374\n",
      "Epoch 16/20\n",
      "\u001b[1m223/223\u001b[0m \u001b[32m━━━━━━━━━━━━━━━━━━━━\u001b[0m\u001b[37m\u001b[0m \u001b[1m1s\u001b[0m 3ms/step - accuracy: 0.9928 - loss: 0.0343 - val_accuracy: 0.9916 - val_loss: 0.0351\n",
      "Epoch 17/20\n",
      "\u001b[1m223/223\u001b[0m \u001b[32m━━━━━━━━━━━━━━━━━━━━\u001b[0m\u001b[37m\u001b[0m \u001b[1m1s\u001b[0m 3ms/step - accuracy: 0.9934 - loss: 0.0297 - val_accuracy: 0.9916 - val_loss: 0.0352\n",
      "Epoch 18/20\n",
      "\u001b[1m223/223\u001b[0m \u001b[32m━━━━━━━━━━━━━━━━━━━━\u001b[0m\u001b[37m\u001b[0m \u001b[1m1s\u001b[0m 3ms/step - accuracy: 0.9932 - loss: 0.0300 - val_accuracy: 0.9916 - val_loss: 0.0345\n",
      "Epoch 19/20\n",
      "\u001b[1m223/223\u001b[0m \u001b[32m━━━━━━━━━━━━━━━━━━━━\u001b[0m\u001b[37m\u001b[0m \u001b[1m1s\u001b[0m 3ms/step - accuracy: 0.9932 - loss: 0.0307 - val_accuracy: 0.9921 - val_loss: 0.0365\n",
      "Epoch 20/20\n",
      "\u001b[1m223/223\u001b[0m \u001b[32m━━━━━━━━━━━━━━━━━━━━\u001b[0m\u001b[37m\u001b[0m \u001b[1m1s\u001b[0m 3ms/step - accuracy: 0.9907 - loss: 0.0390 - val_accuracy: 0.9916 - val_loss: 0.0338\n"
     ]
    }
   ],
   "source": [
    "# Train the Neural Network model\n",
    "history = model.fit(x_train_scaled, y_train, epochs=20, batch_size=32, validation_split=0.2)\n"
   ]
  },
  {
   "cell_type": "markdown",
   "metadata": {},
   "source": [
    "<a id=\"me\"></a>\n",
    "# <p style=\"background-color:#2A1F80; font-family:calibri; color:white; font-size:120%; text-align:center; border-radius:15px 50px;\">Step 8 | Model Evaluation</p>\n",
    "\n",
    "⬆️ [Table of Contents](#contents_tabel)"
   ]
  },
  {
   "cell_type": "code",
   "execution_count": null,
   "metadata": {},
   "outputs": [
    {
     "name": "stdout",
     "output_type": "stream",
     "text": [
      "\n",
      "Logistic Regression Results:\n",
      "Accuracy: 0.9897\n",
      "Confusion Matrix:\n",
      " [[1999    0]\n",
      " [  23  207]]\n",
      "Classification Report:\n",
      "               precision    recall  f1-score   support\n",
      "\n",
      "           0       0.99      1.00      0.99      1999\n",
      "           1       1.00      0.90      0.95       230\n",
      "\n",
      "    accuracy                           0.99      2229\n",
      "   macro avg       0.99      0.95      0.97      2229\n",
      "weighted avg       0.99      0.99      0.99      2229\n",
      "\n",
      "\n",
      "Decision Tree Results:\n",
      "Accuracy: 0.9955\n",
      "Confusion Matrix:\n",
      " [[1998    1]\n",
      " [   9  221]]\n",
      "Classification Report:\n",
      "               precision    recall  f1-score   support\n",
      "\n",
      "           0       1.00      1.00      1.00      1999\n",
      "           1       1.00      0.96      0.98       230\n",
      "\n",
      "    accuracy                           1.00      2229\n",
      "   macro avg       1.00      0.98      0.99      2229\n",
      "weighted avg       1.00      1.00      1.00      2229\n",
      "\n",
      "\n",
      "Random Forest Results:\n",
      "Accuracy: 0.9955\n",
      "Confusion Matrix:\n",
      " [[1999    0]\n",
      " [  10  220]]\n",
      "Classification Report:\n",
      "               precision    recall  f1-score   support\n",
      "\n",
      "           0       1.00      1.00      1.00      1999\n",
      "           1       1.00      0.96      0.98       230\n",
      "\n",
      "    accuracy                           1.00      2229\n",
      "   macro avg       1.00      0.98      0.99      2229\n",
      "weighted avg       1.00      1.00      1.00      2229\n",
      "\n",
      "\n",
      "XGBoost Results:\n",
      "Accuracy: 0.9951\n",
      "Confusion Matrix:\n",
      " [[1998    1]\n",
      " [  10  220]]\n",
      "Classification Report:\n",
      "               precision    recall  f1-score   support\n",
      "\n",
      "           0       1.00      1.00      1.00      1999\n",
      "           1       1.00      0.96      0.98       230\n",
      "\n",
      "    accuracy                           1.00      2229\n",
      "   macro avg       1.00      0.98      0.99      2229\n",
      "weighted avg       1.00      1.00      1.00      2229\n",
      "\n",
      "\n",
      "SVM Results:\n",
      "Accuracy: 0.9901\n",
      "Confusion Matrix:\n",
      " [[1999    0]\n",
      " [  22  208]]\n",
      "Classification Report:\n",
      "               precision    recall  f1-score   support\n",
      "\n",
      "           0       0.99      1.00      0.99      1999\n",
      "           1       1.00      0.90      0.95       230\n",
      "\n",
      "    accuracy                           0.99      2229\n",
      "   macro avg       0.99      0.95      0.97      2229\n",
      "weighted avg       0.99      0.99      0.99      2229\n",
      "\n",
      "\n",
      "KNN Results:\n",
      "Accuracy: 0.9883\n",
      "Confusion Matrix:\n",
      " [[1995    4]\n",
      " [  22  208]]\n",
      "Classification Report:\n",
      "               precision    recall  f1-score   support\n",
      "\n",
      "           0       0.99      1.00      0.99      1999\n",
      "           1       0.98      0.90      0.94       230\n",
      "\n",
      "    accuracy                           0.99      2229\n",
      "   macro avg       0.99      0.95      0.97      2229\n",
      "weighted avg       0.99      0.99      0.99      2229\n",
      "\n"
     ]
    }
   ],
   "source": [
    "\n",
    "# Display Machine learning results\n",
    "for name, result in results.items():\n",
    "    print(f\"\\n{name} Results:\")\n",
    "    print(f\"Accuracy: {result['Accuracy']:.4f}\")\n",
    "    print(\"Confusion Matrix:\\n\", result['Confusion Matrix'])\n",
    "    print(\"Classification Report:\\n\", result['Classification Report'])\n"
   ]
  },
  {
   "cell_type": "code",
   "execution_count": 17,
   "metadata": {},
   "outputs": [
    {
     "name": "stdout",
     "output_type": "stream",
     "text": [
      "\u001b[1m70/70\u001b[0m \u001b[32m━━━━━━━━━━━━━━━━━━━━\u001b[0m\u001b[37m\u001b[0m \u001b[1m0s\u001b[0m 2ms/step - accuracy: 0.9921 - loss: 0.0381\n",
      "Test Accuracy: 0.9910\n",
      "\u001b[1m70/70\u001b[0m \u001b[32m━━━━━━━━━━━━━━━━━━━━\u001b[0m\u001b[37m\u001b[0m \u001b[1m0s\u001b[0m 2ms/step\n",
      "Confusion Matrix:\n",
      "[[1999    0]\n",
      " [  20  210]]\n",
      "Classification Report:\n",
      "              precision    recall  f1-score   support\n",
      "\n",
      "           0       0.99      1.00      1.00      1999\n",
      "           1       1.00      0.91      0.95       230\n",
      "\n",
      "    accuracy                           0.99      2229\n",
      "   macro avg       1.00      0.96      0.97      2229\n",
      "weighted avg       0.99      0.99      0.99      2229\n",
      "\n"
     ]
    }
   ],
   "source": [
    "\n",
    "# Evaluate the Neural network model\n",
    "loss, accuracy = model.evaluate(x_test_scaled, y_test)\n",
    "print(f\"Test Accuracy: {accuracy:.4f}\")\n",
    "\n",
    "# Predict and evaluate Neural Network\n",
    "y_pred_nn = (model.predict(x_test_scaled) > 0.5).astype(\"int32\")\n",
    "\n",
    "print(\"Confusion Matrix:\")\n",
    "print(confusion_matrix(y_test, y_pred_nn))\n",
    "print(\"Classification Report:\")\n",
    "print(classification_report(y_test, y_pred_nn))\n"
   ]
  },
  {
   "cell_type": "code",
   "execution_count": null,
   "metadata": {},
   "outputs": [
    {
     "data": {
      "text/plain": [
       "<Figure size 1200x600 with 0 Axes>"
      ]
     },
     "metadata": {},
     "output_type": "display_data"
    },
    {
     "data": {
      "image/png": "[encoded data removed]",
      "text/plain": [
       "<Figure size 1200x600 with 1 Axes>"
      ]
     },
     "metadata": {},
     "output_type": "display_data"
    },
    {
     "ename": "",
     "evalue": "",
     "output_type": "error",
     "traceback": [
      "\u001b[1;31mThe Kernel crashed while executing code in the current cell or a previous cell. \n",
      "\u001b[1;31mPlease review the code in the cell(s) to identify a possible cause of the failure. \n",
      "\u001b[1;31mClick <a href='https://aka.ms/vscodeJupyterKernelCrash'>here</a> for more info. \n",
      "\u001b[1;31mView Jupyter <a href='command:jupyter.viewOutput'>log</a> for further details."
     ]
    }
   ],
   "source": [
    "# Extracting metrics from results dictionary\n",
    "evaluation_data = []\n",
    "\n",
    "for name, result in results.items():\n",
    "    # Convert classification report (string) to dictionary format\n",
    "    report_dict = classification_report(y_test, best_models[name].predict(x_test_scaled), output_dict=True)\n",
    "\n",
    "    # Extract weighted average precision and F1-score\n",
    "    precision = report_dict[\"weighted avg\"][\"precision\"]\n",
    "    f1_score = report_dict[\"weighted avg\"][\"f1-score\"]\n",
    "    accuracy = result[\"Accuracy\"]\n",
    "\n",
    "    evaluation_data.append([name, precision, accuracy, f1_score])\n",
    "\n",
    "# Convert to DataFrame\n",
    "results_df = pd.DataFrame(evaluation_data, columns=[\"Model\", \"Precision\", \"Accuracy\", \"F1-score\"])\n",
    "results_df.set_index(\"Model\", inplace=True)\n",
    "\n",
    "# Plot grouped bar chart\n",
    "plt.figure(figsize=(12, 6))\n",
    "results_df.plot(kind=\"bar\", figsize=(12, 6), colormap=\"viridis\")\n",
    "\n",
    "# Customize chart\n",
    "plt.title(\"Model Performance Comparison\")\n",
    "plt.ylabel(\"Score\")\n",
    "plt.xlabel(\"Models\")\n",
    "plt.xticks(rotation=45)\n",
    "plt.legend(loc=\"lower right\")\n",
    "plt.grid(axis=\"y\", linestyle=\"--\", alpha=0.7)\n",
    "\n",
    "# Show plot\n",
    "plt.show()"
   ]
  },
  {
   "cell_type": "markdown",
   "metadata": {},
   "source": [
    "<a id=\"mc\"></a>\n",
    "# <p style=\"background-color:#2A1F80; font-family:calibri; color:white; font-size:120%; text-align:center; border-radius:15px 50px;\">Step 9 | Model Comparision</p>\n",
    "\n",
    "⬆️ [Table of Contents](#contents_tabel)"
   ]
  },
  {
   "cell_type": "code",
   "execution_count": 20,
   "metadata": {},
   "outputs": [
    {
     "name": "stderr",
     "output_type": "stream",
     "text": [
      "C:\\Users\\karan\\AppData\\Local\\Temp\\ipykernel_12028\\198282679.py:6: FutureWarning: \n",
      "\n",
      "Passing `palette` without assigning `hue` is deprecated and will be removed in v0.14.0. Assign the `x` variable to `hue` and set `legend=False` for the same effect.\n",
      "\n",
      "  sns.barplot(x=model_names, y=accuracies, palette='viridis')\n"
     ]
    },
    {
     "data": {
      "image/png": "[encoded data removed]",
      "text/plain": [
       "<Figure size 1200x600 with 1 Axes>"
      ]
     },
     "metadata": {},
     "output_type": "display_data"
    }
   ],
   "source": [
    "# Plot model comparison\n",
    "model_names = list(results.keys())\n",
    "accuracies = [results[name]['Accuracy'] for name in model_names]\n",
    "\n",
    "plt.figure(figsize=(12, 6))\n",
    "sns.barplot(x=model_names, y=accuracies, palette='viridis')\n",
    "plt.title('Model Comparison - Accuracy')\n",
    "plt.xlabel('Model')\n",
    "plt.ylabel('Accuracy')\n",
    "plt.xticks(rotation=45)\n",
    "plt.show()\n"
   ]
  },
  {
   "cell_type": "markdown",
   "metadata": {},
   "source": [
    "<a id=\"rocauc\"></a>\n",
    "# <p style=\"background-color:#2A1F80; font-family:calibri; color:white; font-size:120%; text-align:center; border-radius:15px 50px;\">Step 10 | ROC and AUC Curve</p>\n",
    "\n",
    "⬆️ [Table of Contents](#contents_tabel)"
   ]
  },
  {
   "cell_type": "code",
   "execution_count": 18,
   "metadata": {},
   "outputs": [
    {
     "data": {
      "image/png": "[encoded data removed]",
      "text/plain": [
       "<Figure size 1200x800 with 1 Axes>"
      ]
     },
     "metadata": {},
     "output_type": "display_data"
    }
   ],
   "source": [
    "\n",
    "# Plot ROC Curve for each model\n",
    "plt.figure(figsize=(12, 8))\n",
    "for name, model in best_models.items():\n",
    "    if hasattr(model, 'predict_proba'):  # Check if model has predict_proba\n",
    "        y_prob = model.predict_proba(x_test_scaled)[:, 1]\n",
    "    elif hasattr(model, 'decision_function'):  # For SVM without probability=True\n",
    "        y_prob = model.decision_function(x_test_scaled)\n",
    "    else:\n",
    "        continue\n",
    "    \n",
    "    fpr, tpr, _ = roc_curve(y_test, y_prob)\n",
    "    roc_auc = auc(fpr, tpr)\n",
    "    \n",
    "    plt.plot(fpr, tpr, label=f'{name} (AUC = {roc_auc:.2f})')\n",
    "\n",
    "plt.plot([0, 1], [0, 1], 'k--')\n",
    "plt.xlabel('False Positive Rate')\n",
    "plt.ylabel('True Positive Rate')\n",
    "plt.title('ROC Curve Comparison')\n",
    "plt.legend(loc='lower right')\n",
    "plt.show()\n"
   ]
  },
  {
   "cell_type": "code",
   "execution_count": null,
   "metadata": {},
   "outputs": [],
   "source": []
  }
 ],
 "metadata": {
  "kernelspec": {
   "display_name": "myenv",
   "language": "python",
   "name": "python3"
  },
  "language_info": {
   "codemirror_mode": {
    "name": "ipython",
    "version": 3
   },
   "file_extension": ".py",
   "mimetype": "text/x-python",
   "name": "python",
   "nbconvert_exporter": "python",
   "pygments_lexer": "ipython3",
   "version": "3.12.9"
  }
 },
 "nbformat": 4,
 "nbformat_minor": 2
}
